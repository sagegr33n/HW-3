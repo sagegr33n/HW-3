{
 "cells": [
  {
   "cell_type": "code",
   "execution_count": null,
   "id": "aea03fd3-0c33-4590-989e-a38b8ff659f1",
   "metadata": {
    "tags": []
   },
   "outputs": [],
   "source": [
    "## Run this cell to initialize the Autograder\n",
    "import otter\n",
    "grader = otter.Notebook(\"HW2.ipynb\")"
   ]
  },
  {
   "cell_type": "markdown",
   "id": "45c06ffc-14b4-49aa-8047-4de5de99ff48",
   "metadata": {
    "tags": []
   },
   "source": [
    "# Homework #2\n",
    "**Due Friday Oct. 25th @ 11:59 pm**\n",
    "\n",
    "**Regrade Request Due Date: Friday Nov. 8th @ 11:59 pm**\n",
    "\n",
    "**Objective:** This assignment will give you experience with control flow, Numpy arrays and functions, datetimes, and basic plotting.\n",
    "\n",
    "\n",
    "## **Instructions:**\n",
    "### Accessing Class Code\n",
    "\n",
    "1. Download this notebook from the homework GitHub repository. \n",
    "\n",
    "2. Create a new folder in your JupyterHub server and name it `HW2`. Double click your new `HW2` folder to enter it.\n",
    "\n",
    "3. Once the notebook is downloaded to your local computer, upload the notebook to your `HW2` folder. \n",
    "\n",
    "4. Double click the `HW2.ipynb` notebook to open and start working on the assignment. \n",
    "    \n",
    "### Submitting to GradeScope\n",
    "\n",
    "1. Make sure your code fully runs before uploading to GitHub/Gradescope. The best way to do this is by restarting your kernel, running through each of your cells, and checking for errors.\n",
    "\n",
    "2. When you're sure that your code fully runs, save your notebook file. \n",
    "\n",
    "3. Upload your notebook to GitHub via SSH log in or manually uploading it to a new repository.\n",
    "\n",
    "4. Go to the Homework 2 Assignment in Gradescope and sync your GitHub account to upload your notebook. If you are having trouble with this step, you can download your notebook from JupyterHub and manually upload it to Gradescope.\n",
    "\n",
    "5. The Autograder should run and will let you know if you have any errors. You can resubmit as many times as you want before the deadline.\n",
    "\n",
    "### Working in your Notebook   \n",
    "1. Read the instructions to each question and its subsections carefully, and make sure to write your answers in the *specified cells*. Typically, you will see an empty string (`\"\"`) in the places you need to fill in. \n",
    "\n",
    "2. Make sure to use the provided variable names in the starter code. The Autograder will check these given variables by running tests, so changes made to variable names will result in an Error and/or failed tests. An example is provided below:\n",
    "\n",
    "   To help you start thinking about how to write meaningful and concise variable names, we have provided variable names in most of your questions. For example, `pelagic` and `coastal` are variable names in Homework 1 Question 2a to describe different oceanic zones you will be comparing. <br>\n",
    "![Question_2a](https://i.ibb.co/Kzz7g9w/part-a.png)\n",
    "    Note that there is an empty string (`\"\"`) after each of the variable names. These are the sections you are expected to fill in. Please use the provided variable names (ie `pelagic` and `coastal` in the above example) to report your final answer back in. This will ensure that the autograder on Gradescope runs properly. <br>\n",
    "<br>**Make sure that you are adding comments as you go along! Part of your grade will include using best coding practices in your homework assignments.** \n",
    "\n",
    "3. The starter code is only meant to help you get started. You may write code and any other intermediary variables that can start before or after the starter code depending on the question. Just make sure your final answers are stored in the provided answer variables at the end! \n",
    "\n",
    "### Honor Code\n",
    "\n",
    "- Complete the assignment by writing and executing text and code cells as specified. For this assignment, do not use any features of Python that have not yet been discussed in the lessons or class sessions.\n",
    "\n",
    "- Please keep in mind our regrade request and dropped homework grading policy. Late assignments are not accepted. Review the syllabus for details. \n",
    "\n",
    "- You can acknowledge and describe any assistance you've received on this assignment in the specified cell of the HW2 notebook, whether that was from an instructor, classmate (either directly or on Ed Discussion), and/or online resources. Alternatively, if you prefer, you may acknowledge assistance at the relevant point(s) in your code using a Python comment (#). Don't forget that you can receive extra credit from answering at least one question on [Ed Discussion](https://edstem.org/us/courses/67282)!"
   ]
  },
  {
   "cell_type": "code",
   "execution_count": null,
   "id": "bcc5f826-738c-4131-8232-e8e2788487c4",
   "metadata": {},
   "outputs": [],
   "source": []
  },
  {
   "cell_type": "markdown",
   "id": "711fab02-47f9-451f-8c0b-a84e979ceba8",
   "metadata": {
    "tags": []
   },
   "source": [
    "*Acknowledge assistance here or in comments above your code:*\n",
    "\n",
    "\n",
    "\n"
   ]
  },
  {
   "cell_type": "markdown",
   "id": "ef1637b0-14da-4f24-b040-ca98dec6a062",
   "metadata": {
    "deletable": false,
    "editable": false
   },
   "source": [
    "<!-- BEGIN QUESTION -->\n",
    "\n",
    "# Question 1 - Numpy documentation (30 points)\n",
    "\n",
    "There are many more functions and packages in Python than we have discussed in class. It is important for data analysts to be able to independently **find**, **learn about**, and **apply** useful functions.\n",
    "\n",
    "For this question, peruse the online [Numpy library documentation](https://numpy.org/doc/stable/reference/routines.html) and select **three** functions to learn more about\\. <br>\n",
    "\n",
    "Also, don't forget to import numpy! You only have to do this _once_ for your notebook.\n",
    "\n",
    "For each Numpy function (10 points per function):\n",
    "\n",
    "\n",
    "1. Describe what the function does. What value(s) does it return? <br>\n",
    "2. Describe at least *two* **positional** arguments used in the function. What data types are required for them? What order do they go in? <br>\n",
    "3. Describe at least *one* **optional** named argument used in the function. What data types are required for it? What is the default value?<br>\n",
    "4. Provide the link to the documentation page(s) you used to answer these questions.<br>\n",
    "5. Write a code snippet where you use the function and print the result.<br>\n",
    "\n",
    "### Example: ```numpy.lcm```\n",
    "1. The function numpy.lcm finds and returns the lowest common multiple of the absolute value of the inputs.<br>\n",
    "2. The first two positional arguments used in numpy.lcm have to be either numpy arrays of integers or single scalar integers. An array or scalar of the lowest common multiple(s) of both arguments is returned by the function.<br>\n",
    "3. One optional argument is \"where\" which indicates whether a universal function should be calculated at this point. The data type required is a Boolean. \"where\" = True is the default value.<br>\n",
    "4. I used two references: https://numpy.org/doc/stable/reference/generated/numpy.lcm.html#numpy.lcm\n",
    "and\n",
    "https://www.educative.io/answers/what-is-numpylcm-in-python <br>\n"
   ]
  },
  {
   "cell_type": "code",
   "execution_count": null,
   "id": "57ac2903-9b06-41b9-86d6-5a292b4543af",
   "metadata": {
    "deletable": false,
    "editable": false,
    "tags": []
   },
   "outputs": [],
   "source": [
    "# Example part 5: numpy.lcm. Do not change this code\n",
    "\n",
    "import numpy as np #import numpy\n",
    "\n",
    "lcm = np.lcm(45,6) #take the lowest common multiple of 45 and 6\n",
    "print(\"The lowest common multiple of 45 and 6 is\", lcm) #print\n",
    "\n",
    "# Write your answers and code in the markdown cells below"
   ]
  },
  {
   "cell_type": "markdown",
   "id": "1e471b9d",
   "metadata": {},
   "source": [
    "## FUNCTION 1 (replace this header with your function name)\n",
    "_Type your answers to parts 1-4 here_"
   ]
  },
  {
   "cell_type": "code",
   "execution_count": null,
   "id": "88d5315b-06a2-49c2-8625-b7031c1bf935",
   "metadata": {
    "tags": []
   },
   "outputs": [],
   "source": [
    "## Part 5 Code for Function 1"
   ]
  },
  {
   "cell_type": "markdown",
   "id": "def129fb-3cc4-4f12-b8be-edd33560330a",
   "metadata": {},
   "source": [
    "## FUNCTION 2 (replace this header with your function name)\n",
    "_Type your answers to parts 1-4 here_"
   ]
  },
  {
   "cell_type": "code",
   "execution_count": null,
   "id": "2adc986f-37a2-4dae-a9e1-ef1d3632310f",
   "metadata": {
    "tags": []
   },
   "outputs": [],
   "source": [
    "## Part 5 Code for Function 2"
   ]
  },
  {
   "cell_type": "markdown",
   "id": "940afcdd-77f7-4c89-bf66-9b6ff5956f49",
   "metadata": {},
   "source": [
    "## FUNCTION 3 (replace this header with your function name)\n",
    "_Type your answers to parts 1-4 here_"
   ]
  },
  {
   "cell_type": "code",
   "execution_count": null,
   "id": "d3740e4a-eab3-408d-bad0-7177b9f2ed4a",
   "metadata": {
    "tags": []
   },
   "outputs": [],
   "source": [
    "## Part 5 Code for Function 3"
   ]
  },
  {
   "cell_type": "markdown",
   "id": "a44a1eea-9f20-4412-9dd4-f8430ab327bc",
   "metadata": {
    "deletable": false,
    "editable": false,
    "tags": []
   },
   "source": [
    "<!-- END QUESTION -->\n",
    "\n",
    "# Question 2 - Multi-diminsional array slicing (30 points)\n",
    "\n",
    "### Instructions:\n",
    "There is a secret message hidden in the following 3-D numpy array! We will decode this 3-D array by following the clues below and using our array indexing and slicing skills. <br>\n",
    "\n",
    "_**Make sure to use the provided answer variables to store your final answers!**_ You may name intermediary variables whatever you like, as long as the final answer is stored and printed in the ones we provide in your starter code.\n",
    "\n",
    "1. Use the clues below to create an array of characters (letters) for each of the five hidden words by indexing and slicing the provided array (`str_array`).\n",
    "2. Convert the arrays of characters from Step 1 into lists using the numpy `tolist()` function and store them in the corresponding answer variables  (e.g. `word1_list`).\n",
    "3. Use the `join()` string function on each word list from Step 2 to form a single string for each word. Store your final words in the corresponding answer variables for strings (e.g. `word1`).\n",
    "4. Print the secret message using the provided print statement.\n",
    "\n",
    "### Clues: \n",
    "Word 1: 5th layer, 3rd and 4th rows, and 2nd column.\n",
    "\n",
    "Word 2: 1st to last layers, 4th row, 3rd column.\n",
    "\n",
    "Word 3: 1st layer, 3rd row, 2nd to last columns.\n",
    "\n",
    "Word 4: 4th layer, 3rd and 4th rows, 4th column.\n",
    "\n",
    "Word 5: 3rd and 4th layers, 1st-3rd rows, 1st column.\n",
    "- For this clue, you will need to call the numpy `ravel()` function before you convert the character array into a list\n",
    "- Read about what ravel() does [here.](https://numpy.org/doc/stable/reference/generated/numpy.ravel.html) \n",
    "\n",
    "\n",
    "### HINT\n",
    "Example word: 1st layer, last row, 2nd to 4th columns\n",
    "- This clue refers to the letters: ```['t','a','g']```\n",
    "\n",
    "**Remember that Python indexing starts at zero** (e.g. the 1st element is actually at index 0) and that **the upper bound of a slice is exclusive** (e.g. a slice from 0:2 includes the values at indices 0 and 1 but not 2).**"
   ]
  },
  {
   "cell_type": "code",
   "execution_count": null,
   "id": "d3820cf9-9560-409d-ae1c-80896424cf0e",
   "metadata": {
    "deletable": false,
    "editable": false,
    "tags": []
   },
   "outputs": [],
   "source": [
    "# Do not change this 3-D numpy string array\n",
    "import numpy as np\n",
    "\n",
    "str_array = np.array([[['a', 'c', 'V', 't', 'a'], #This is Layer 1\n",
    "  ['M', 'h', 'c', 'r', 'b'], # Ex: This is Row 2\n",
    "  ['T', 'n', 'a', 'm', 'e'], \n",
    "  ['g', 'f', 'c', 'A', 'a'],\n",
    "  ['l', 't', 'a', 'g', 'h']],\n",
    "\n",
    " [['G', 'a', 'A', 'P', 'f'], #This is Layer 2\n",
    "  ['x', 'q', 'q', 'h', 'b'],\n",
    "  ['y', 'y', 'p', 'l', 'a'],\n",
    "  ['a', 'a', 'a', 'a', 'U'],\n",
    "  ['t', 't', 'a', 'K', 'y']],\n",
    "\n",
    " [['P', 'o', 's', 'c', 'o'], #This is Layer 3\n",
    "  ['i', 'a', 'a', 'k', 'c'],\n",
    "  ['r', 'a', 'a', 'f', 'k'],\n",
    "  ['e', 'a', 't', 'a', 'r'],\n",
    "  ['w', 'R', 'R', 'e', 's']],\n",
    "\n",
    " [['a', 'a', 'e', 'a', 'a'], #This is Layer 4\n",
    "  ['t', 'b', 'r', 'a', 's'],\n",
    "  ['e', 'w', 'a', 'i', 'a'],\n",
    "  ['E', 'a', \"'\", 's', 's'],\n",
    "  ['D', 'a', 'r', 'r', 'a']],\n",
    "\n",
    " [['E', 'a', 'a', 'r', 'r'], #This is Layer 5\n",
    "  ['q', 'a', 'a', 'a', 'L'],\n",
    "  ['j', 'M', 'a', 'y', 'Y'],\n",
    "  ['j', 'y', 's', 'a', 'p'],\n",
    "  ['e', 'a', 'a', 'r', 'a']]])\n",
    "\n",
    "\n",
    "# Provide your code in the cell below"
   ]
  },
  {
   "cell_type": "code",
   "execution_count": null,
   "id": "0e12e04a-2b1f-49c7-b1d7-f864a81c564c",
   "metadata": {
    "tags": []
   },
   "outputs": [],
   "source": [
    "# your code \n",
    "\n",
    "# answer variables for lists\n",
    "word1_list = \"\"\n",
    "word2_list = \"\"\n",
    "word3_list = \"\"\n",
    "word4_list = \"\"\n",
    "word5_list = \"\"\n",
    "\n",
    "# answer variables for strings\n",
    "word1 = \"\"\n",
    "word2 = \"\"\n",
    "word3 = \"\"\n",
    "word4 = \"\"\n",
    "word5 = \"\"\n",
    "\n",
    "# print full message\n",
    "print(word1, word2, word3, word4, word5)"
   ]
  },
  {
   "cell_type": "markdown",
   "id": "72682492-f00f-4d56-9bf5-94c48b722fe0",
   "metadata": {
    "deletable": false,
    "editable": false
   },
   "source": [
    "## Question 3 (30 points) - Datetimes, numpy, indexing, plotting \n",
    "\n",
    "![picture](https://i.ibb.co/yPGnxwV/bathmetry.jpg)\n",
    "*Image: Bathymetry of the seafloor around Axial Seamount (source: Wikipedia, originally from NOAA/PMEL).*\n",
    "\n",
    "### **Axial Seamount eruption**\n",
    "\n",
    "*Useful resources:* pre-lectures on list indexing, `for` loops and `if` statements, `numpy`, `datetime`, and basic plotting in `matplotlib`.\n",
    "\n",
    "During the eruption of a submarine volcano, the seafloor deflates rapidly as magma is expelled into the ocean. Bottom pressure gauges use pressure to measure depth, so these gauges can detect this deflation. After an eruption, the seafloor slowly inflates and rises as magma accumulates in preparation for the next eruption.\n",
    "\n",
    "Axial Seamount is an active submarine volcano offshore of the Oregon coast. It last erupted in 2015. Below, we provide a time series of monthly depths informed by bottom pressure data released by the [Ocean Observatories Initiative \\(OOI\\)](https://dataexplorer.oceanobservatories.org/#default-data/4) from August 15, 2014 to December 15, 2019, with measurements taken on the 15th day of each month. Times are specified in date strings.\n",
    "\n",
    "## Instructions\n",
    "Write your code and print your answers for Parts 1-4 in the specified cells below. You can choose whether to use lists or numpy arrays.\n",
    "<br>Make sure to utilize the *print()* statements for your answers at the bottom of each cell and _**use the provided variables to store your final answer!**_ You may name intermediary variables whatever you like, as long as the final answer is stored and printed in the ones we provide in your starter code."
   ]
  },
  {
   "cell_type": "code",
   "execution_count": null,
   "id": "85ca36d7-4b26-4476-9804-a08cc44af3da",
   "metadata": {
    "deletable": false,
    "editable": false,
    "tags": []
   },
   "outputs": [],
   "source": [
    "# Keep these starting lines of code – DO NOT CHANGE THIS!:\n",
    "#\n",
    "# Axial Seamount Central Caldera bottom pressure gauge data \n",
    "# (times in date strings; depths in meters)\n",
    "dates = [\"2014-08-15\",\"2014-09-15\",\"2014-10-15\",\"2014-11-15\",\"2014-12-15\",\n",
    "         \"2015-01-15\",\"2015-02-15\",\"2015-03-15\",\"2015-04-15\",\"2015-05-15\",\"2015-06-15\",\"2015-07-15\",\"2015-08-15\",\"2015-09-15\",\"2015-10-15\",\"2015-11-15\",\"2015-12-15\",\n",
    "         \"2016-01-15\",\"2016-02-15\",\"2016-03-15\",\"2016-04-15\",\"2016-05-15\",\"2016-06-15\",\"2016-07-15\",\"2016-08-15\",\"2016-09-15\",\"2016-10-15\",\"2016-11-15\",\"2016-12-15\",\n",
    "         \"2017-01-15\",\"2017-02-15\",\"2017-03-15\",\"2017-04-15\",\"2017-05-15\",\"2017-06-15\",\"2017-07-15\",\"2017-08-15\",\"2017-09-15\",\"2017-10-15\",\"2017-11-15\",\"2017-12-15\",\n",
    "         \"2018-01-15\",\"2018-02-15\",\"2018-03-15\",\"2018-04-15\",\"2018-05-15\",\"2018-06-15\",\"2018-07-15\",\"2018-08-15\",\"2018-09-15\",\"2018-10-15\",\"2018-11-15\",\"2018-12-15\",\n",
    "         \"2019-01-15\",\"2019-02-15\",\"2019-03-15\",\"2019-04-15\",\"2019-05-15\",\"2019-06-15\",\"2019-07-15\",\"2019-08-15\",\"2019-09-15\",\"2019-10-15\",\"2019-11-15\",\"2019-12-15\"]\n",
    "depths = [1510.24,1510.19,1510.14,1510.08,1510.04,1509.96,1509.93,1509.87,1509.83,1512.23,1512.11,1512.04,1511.96,1511.89,1511.79,1511.7,1511.64,1511.57,1511.54,1511.5,1511.47,1511.47,1511.4,1511.35,1511.33,1511.32,1511.31,1511.26,1511.21,1511.19,1511.14,1511.12,1511.05,1511.0,1511.06,1511.04,1511.01,1510.98,1510.93,1510.87,1510.87,1510.91,1510.86,1510.77,1510.75,1510.7,1510.67,1510.68,1510.64,1510.59,1510.56,1510.54,1510.45,1510.51,1510.41,1510.42,1510.39,1510.37,1510.4,1510.42,1510.41,1510.38,1510.33,1510.3,1510.26]\n",
    "\n",
    "# Provide your answers in cells below:"
   ]
  },
  {
   "cell_type": "markdown",
   "id": "6d8d40be-2d2f-4329-a178-d4ff1e79dd39",
   "metadata": {
    "deletable": false,
    "editable": false
   },
   "source": [
    "## Part 1\n",
    "The seafloor dropped more than 2.0 m during the 2015 eruption (AKA its depth increased/got deeper by >2m throughout the explosion). **This can be used to identify when the eruption happened**. <br> Store your answers to these questions in the provided variables and use the provided *print()* statements to display your answers, e.g. \"Part 1b: The seafloor drop during the eruption was \\<X> m.\" (10 points)\n",
    "\n",
    "### Instructions\n",
    "> **a.** Convert each date string in the `dates` list into a datetime and store them in a new list called `datetime_list`. Print this list. \n",
    ">\n",
    "> **b.** How could you calculate the seafloor drop by using the measured depths in the `depths` list? Calculate the seafloor drop during the eruption and round to 1 decimal place (_HINT:_ use the `round()` function). Store your answer in `round_depth`, and print its value.\n",
    ">\n",
    "> **c.** Identify the two measurement datetimes immediately before and after the eruption and save them into the `start_date` and `end_date` variables. Print these dates. (_HINT:_ Use the seafloor drop value you calculated in Part B to figure out which two months the eruption happened in)\n",
    ">\n",
    "> **d.** Find the seafloor depth measurement immediately before the eruption and round to 1 decimal place. Store your answer in the `round_start_depth` variable and print it.\n",
    ">"
   ]
  },
  {
   "cell_type": "code",
   "execution_count": null,
   "id": "3be01bf9-4284-4b92-842d-f40c8f3c0b26",
   "metadata": {
    "tags": []
   },
   "outputs": [],
   "source": [
    "# your code\n",
    "\n",
    "\n",
    "## answer variables\n",
    "# Part A) \n",
    "datetime_list = \"\" \n",
    "\n",
    "# Part B)\n",
    "round_depth = \"\"\n",
    "\n",
    "# Part C)\n",
    "start_date = \"\"\n",
    "end_date = \"\"\n",
    "\n",
    "# Part D)\n",
    "round_start_depth = \"\"\n",
    "\n",
    "# print statements for Parts A-D:\n",
    "print(\"part 1a)\", datetime_list)\n",
    "print(\"part 1b) The seafloor drop during the eruption was\", round_depth, \"meters\")\n",
    "print(\"part 1c) The date before the eruption is\", start_date, \"and the date after is\", end_date)\n",
    "print(\"part 1d) The depth before the eruption was\", round_start_depth)"
   ]
  },
  {
   "cell_type": "markdown",
   "id": "496b737e-19f4-4389-b63e-086fef92dd55",
   "metadata": {
    "deletable": false,
    "editable": false
   },
   "source": [
    "## Part 2\n",
    "The seafloor has been steadily inflating since the 2015 eruption (AKA its depth has been decreasing/becoming shallower since the eruption). (5 points)\n",
    "\n",
    "> **a.** How much has the seafloor inflated between the measurement immediately after the eruption and the most recent measurement in this data? Calculate the inflation difference, store your answer (rounded to 1 decimal place) in the `inflation_diff` variable, and print it. \n",
    ">\n",
    "> **b.** How much time has elapsed between these two measurements? Calculate the time difference, store your answer in the `elapsed_time` variable, and print it. (_HINT:_ Your answer should be a `timedelta` object in days.)\n",
    ">"
   ]
  },
  {
   "cell_type": "code",
   "execution_count": null,
   "id": "3921f3bc-5872-4415-90e6-698ae9c9b363",
   "metadata": {
    "tags": []
   },
   "outputs": [],
   "source": [
    "# your code \n",
    "\n",
    "## answer variables\n",
    "# Part A\n",
    "inflation_diff = \"\"\n",
    "\n",
    "# Part B\n",
    "elapsed_time = \"\"\n",
    "\n",
    "# print statements\n",
    "print(\"part 2a) The inflation change in depth is\", inflation_diff, 'meters')\n",
    "print(\"part 2b) The time elapsed during inflation is\", elapsed_time)"
   ]
  },
  {
   "cell_type": "markdown",
   "id": "e44025d9-088f-43c8-89ac-6d2dffbec314",
   "metadata": {
    "deletable": false,
    "editable": false
   },
   "source": [
    "### Part 3 \n",
    "Calculate the approximate rate of seafloor inflation using your `inflation_diff` and `elapsed_time` variables from Part 2. Express your answer in units of centimeters per week, rounded to 1 decimal place. Store your final answer in the `round_inflation` variable and print it. (5 points)\n",
    "\n",
    "_HINT_: Remember that rate is in units of distance / time! "
   ]
  },
  {
   "cell_type": "code",
   "execution_count": null,
   "id": "4c411fa1-a5ff-4f9a-b513-241cdc1d17a5",
   "metadata": {
    "tags": []
   },
   "outputs": [],
   "source": [
    "# your code\n",
    "\n",
    "# answer variable\n",
    "round_inflation_rate = \"\"\n",
    "\n",
    "# print statements\n",
    "print(\"Part 3) The inflation rate is\", round_inflation_rate,\"cm/week\")"
   ]
  },
  {
   "cell_type": "markdown",
   "id": "2d53d585-7aff-449b-9ebb-3c6ce25a6cef",
   "metadata": {
    "deletable": false,
    "editable": false
   },
   "source": [
    "<!-- BEGIN QUESTION -->\n",
    "\n",
    "### Part 4\n",
    "Use `Matplotlib` to create a plot of the data with datetime on the x-axis and depth on the y-axis.  Shallower depths should point in the positive y-direction (Look how to do this in the [Matplotlib documentation](https://matplotlib.org/3.7.1/api/axes_api.html)). \n",
    "\n",
    "**Format and label your plot such that it looks as similar as possible to the following plot (this includes the title, axis labels, and grid)**: (10 points)\n",
    "\n",
    "![plot](https://i.ibb.co/FhV9LFV/plot.png)"
   ]
  },
  {
   "cell_type": "code",
   "execution_count": null,
   "id": "d045ddf5-4667-4536-abf0-823ec8abd71a",
   "metadata": {
    "tags": []
   },
   "outputs": [],
   "source": [
    "# your code\n",
    "\n"
   ]
  },
  {
   "cell_type": "markdown",
   "id": "ac8489d9",
   "metadata": {
    "deletable": false,
    "editable": false
   },
   "source": [
    "<!-- END QUESTION -->\n",
    "\n"
   ]
  }
 ],
 "metadata": {
  "kernelspec": {
   "display_name": "Python 3 (ipykernel)",
   "language": "python",
   "name": "python3"
  },
  "language_info": {
   "codemirror_mode": {
    "name": "ipython",
    "version": 3
   },
   "file_extension": ".py",
   "mimetype": "text/x-python",
   "name": "python",
   "nbconvert_exporter": "python",
   "pygments_lexer": "ipython3",
   "version": "3.10.10"
  },
  "otter": {
   "OK_FORMAT": true,
   "tests": {
    "Question 2": {
     "name": "Question 2",
     "points": 30,
     "suites": [
      {
       "cases": [],
       "scored": true,
       "setup": "",
       "teardown": "",
       "type": "doctest"
      }
     ]
    },
    "Question 3, Part 1": {
     "name": "Question 3, Part 1",
     "points": 10,
     "suites": [
      {
       "cases": [],
       "scored": true,
       "setup": "",
       "teardown": "",
       "type": "doctest"
      }
     ]
    },
    "Question 3, Part 2": {
     "name": "Question 3, Part 2",
     "points": 5,
     "suites": [
      {
       "cases": [],
       "scored": true,
       "setup": "",
       "teardown": "",
       "type": "doctest"
      }
     ]
    },
    "Question 3, Part 3": {
     "name": "Question 3, Part 3",
     "points": 2,
     "suites": [
      {
       "cases": [],
       "scored": true,
       "setup": "",
       "teardown": "",
       "type": "doctest"
      }
     ]
    }
   }
  }
 },
 "nbformat": 4,
 "nbformat_minor": 5
}
